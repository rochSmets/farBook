{
 "cells": [
  {
   "cell_type": "code",
   "execution_count": 1,
   "metadata": {},
   "outputs": [],
   "source": [
    "run_path = \"/DATA/phare/pharebook_data/tests/2stream/2strRefin\"\n",
    "#run_path = \"/home/smets/codeS/fAr/runs/2strRefin\"\n",
    "\n",
    "mode = 1\n",
    "timeChunk = (0, 41) #time interval for the linear phase\n",
    "timeStride = 1.0 # will get time in interval every stride\n",
    "\n",
    "import numpy as np\n",
    "from numpy.fft import fft\n",
    "import os\n",
    "import h5py\n",
    "from pyphare.pharesee.run import Run\n",
    "from pyphare.pharesee.hierarchy import finest_field\n",
    "from scipy.optimize import curve_fit\n",
    "import matplotlib.pyplot as plt"
   ]
  },
  {
   "cell_type": "code",
   "execution_count": 2,
   "metadata": {},
   "outputs": [],
   "source": [
    "def getMode(t, m):\n",
    "    return np.absolute(fft(t)[m])"
   ]
  },
  {
   "cell_type": "code",
   "execution_count": 3,
   "metadata": {},
   "outputs": [],
   "source": [
    "def get_times(path, chunk=None, stride=None):\n",
    "    f = h5py.File(path, \"r\")\n",
    "    allTimes = np.array(sorted([float(s.strip(\"t\")) for s in list(f.keys())]))\n",
    "\n",
    "    if chunk is None:\n",
    "        chunk = (allTimes[0], allTimes[-1])\n",
    "    if stride is None:\n",
    "        stride = 1e-4\n",
    "\n",
    "    times=[]\n",
    "    for t in allTimes:\n",
    "        if t in np.arange(chunk[0], chunk[1], stride):\n",
    "            times.append(t)\n",
    "\n",
    "            \n",
    "    f.close()\n",
    "    return times"
   ]
  },
  {
   "cell_type": "code",
   "execution_count": 10,
   "metadata": {},
   "outputs": [
    {
     "data": {
      "image/png": "[encoded data removed]",
      "text/plain": [
       "<Figure size 432x288 with 1 Axes>"
      ]
     },
     "metadata": {
      "needs_background": "light"
     },
     "output_type": "display_data"
    }
   ],
   "source": [
    "r = Run(run_path)\n",
    "times = get_times(os.path.join(run_path, \"EM_B.h5\"), timeChunk, timeStride)\n",
    "byz = np.array([])\n",
    "\n",
    "for time in times:\n",
    "    B = r.GetB(time)\n",
    "    by, x = finest_field(B, \"By\")\n",
    "    bz, x = finest_field(B, \"Bz\")\n",
    "    mm = getMode(by-1j*bz, mode)\n",
    "    byz = np.append(byz, mm)\n",
    "\n",
    "def croaCroa(x, a, b):\n",
    "    t1 = np.multiply(b, x)\n",
    "    return a*np.exp(t1)\n",
    "\n",
    "popt, pcov = curve_fit(croaCroa, times, byz, p0=[0.1, 0.1])\n",
    "\n",
    "plt.stem(times, byz, linefmt='-k', basefmt=' ', use_line_collection=True)\n",
    "plt.plot(times, croaCroa(times, popt[0], popt[1]), color='red')\n",
    "\n",
    "plt.xlabel(\"Time\")\n",
    "plt.ylabel(\"FFT ($B_y - \\imath B_z$) : Mode m=1\")\n",
    "plt.text(0, 19, \"$\\gamma$ = {:6.4f}\".format(popt[1]))\n",
    "\n",
    "plt.savefig(\"gamma.pdf\")\n",
    "plt.show()"
   ]
  },
  {
   "cell_type": "code",
   "execution_count": null,
   "metadata": {},
   "outputs": [],
   "source": []
  }
 ],
 "metadata": {
  "kernelspec": {
   "display_name": "Python 3",
   "language": "python",
   "name": "python3"
  },
  "language_info": {
   "codemirror_mode": {
    "name": "ipython",
    "version": 3
   },
   "file_extension": ".py",
   "mimetype": "text/x-python",
   "name": "python",
   "nbconvert_exporter": "python",
   "pygments_lexer": "ipython3",
   "version": "3.9.2"
  }
 },
 "nbformat": 4,
 "nbformat_minor": 4
}
